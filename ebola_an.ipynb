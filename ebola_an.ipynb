{
 "cells": [
  {
   "cell_type": "code",
   "execution_count": 17,
   "metadata": {},
   "outputs": [],
   "source": [
    "import pandas as pd\n",
    "import matplotlib.pyplot as plt\n",
    "import numpy as np\n",
    "import datetime"
   ]
  },
  {
   "cell_type": "code",
   "execution_count": 25,
   "metadata": {},
   "outputs": [],
   "source": [
    "# Ebola 데이터 읽기\n",
    "ebola = pd.read_csv('data/ebola_2014-2016.csv')"
   ]
  },
  {
   "cell_type": "code",
   "execution_count": 27,
   "metadata": {},
   "outputs": [],
   "source": [
    "# Ebola의 Date 컬럼을 datetime 타입으로 변경\n",
    "ebola.Date = pd.to_datetime(ebola['Date'], format='%Y-%m-%d')"
   ]
  },
  {
   "cell_type": "code",
   "execution_count": 35,
   "metadata": {},
   "outputs": [],
   "source": [
    "# 데이터를 2014, 2015, 2016으로 나누기\n",
    "mask_2014 = (ebola['Date'] >= '2014-01-01') & (ebola['Date'] <= '2014-12-31')\n",
    "mask_2015 = (ebola['Date'] >= '2015-01-01') & (ebola['Date'] <= '2015-12-31')\n",
    "mask_2016 = (ebola['Date'] >= '2016-01-01') & (ebola['Date'] <= '2016-12-31')"
   ]
  },
  {
   "cell_type": "code",
   "execution_count": 36,
   "metadata": {},
   "outputs": [],
   "source": [
    "ebola2014 = ebola.loc[mask_2014]\n",
    "ebola2015 = ebola.loc[mask_2015]\n",
    "ebola2016 = ebola.loc[mask_2016]"
   ]
  },
  {
   "cell_type": "code",
   "execution_count": 55,
   "metadata": {},
   "outputs": [],
   "source": [
    "mask_2015_first = (ebola2015['Date'] >= '2015-01-01') & (ebola2015['Date'] <= '2015-06-30')\n",
    "mask_2015_second = (ebola2015['Date'] >= '2015-07-01') & (ebola2015['Date'] <= '2015-12-31')\n",
    "\n",
    "mask_2016_first = (ebola2016['Date'] >= '2016-01-01') & (ebola2016['Date'] <= '2016-06-30')\n",
    "mask_2016_second = (ebola2016['Date'] >= '2016-07-01') & (ebola2016['Date'] <= '2016-12-31')"
   ]
  },
  {
   "cell_type": "code",
   "execution_count": 56,
   "metadata": {},
   "outputs": [],
   "source": [
    "ebola2015_first = ebola2015.loc[mask_2015_first]\n",
    "ebola2015_second = ebola2015.loc[mask_2015_second]\n",
    "\n",
    "ebola2016_first = ebola2016.loc[mask_2016_first]\n",
    "ebola2016_second = ebola2016.loc[mask_2016_second]"
   ]
  },
  {
   "cell_type": "code",
   "execution_count": 53,
   "metadata": {},
   "outputs": [
    {
     "output_type": "execute_result",
     "data": {
      "text/plain": "                      Country       Date   Cases  Deaths\n0                      Guinea 2014-08-29   648.0   430.0\n1                     Nigeria 2014-08-29    19.0     7.0\n2                Sierra Leone 2014-08-29  1026.0   422.0\n3                     Liberia 2014-08-29  1378.0   694.0\n4                Sierra Leone 2014-09-05  1261.0   491.0\n..                        ...        ...     ...     ...\n260              Sierra Leone 2014-12-31  9446.0  2758.0\n261                      Mali 2014-12-31     8.0     6.0\n262                   Nigeria 2014-12-31    20.0     8.0\n263  United States of America 2014-12-31     4.0     1.0\n264                    Guinea 2014-12-31  2707.0  1709.0\n\n[265 rows x 4 columns]",
      "text/html": "<div>\n<style scoped>\n    .dataframe tbody tr th:only-of-type {\n        vertical-align: middle;\n    }\n\n    .dataframe tbody tr th {\n        vertical-align: top;\n    }\n\n    .dataframe thead th {\n        text-align: right;\n    }\n</style>\n<table border=\"1\" class=\"dataframe\">\n  <thead>\n    <tr style=\"text-align: right;\">\n      <th></th>\n      <th>Country</th>\n      <th>Date</th>\n      <th>Cases</th>\n      <th>Deaths</th>\n    </tr>\n  </thead>\n  <tbody>\n    <tr>\n      <th>0</th>\n      <td>Guinea</td>\n      <td>2014-08-29</td>\n      <td>648.0</td>\n      <td>430.0</td>\n    </tr>\n    <tr>\n      <th>1</th>\n      <td>Nigeria</td>\n      <td>2014-08-29</td>\n      <td>19.0</td>\n      <td>7.0</td>\n    </tr>\n    <tr>\n      <th>2</th>\n      <td>Sierra Leone</td>\n      <td>2014-08-29</td>\n      <td>1026.0</td>\n      <td>422.0</td>\n    </tr>\n    <tr>\n      <th>3</th>\n      <td>Liberia</td>\n      <td>2014-08-29</td>\n      <td>1378.0</td>\n      <td>694.0</td>\n    </tr>\n    <tr>\n      <th>4</th>\n      <td>Sierra Leone</td>\n      <td>2014-09-05</td>\n      <td>1261.0</td>\n      <td>491.0</td>\n    </tr>\n    <tr>\n      <th>...</th>\n      <td>...</td>\n      <td>...</td>\n      <td>...</td>\n      <td>...</td>\n    </tr>\n    <tr>\n      <th>260</th>\n      <td>Sierra Leone</td>\n      <td>2014-12-31</td>\n      <td>9446.0</td>\n      <td>2758.0</td>\n    </tr>\n    <tr>\n      <th>261</th>\n      <td>Mali</td>\n      <td>2014-12-31</td>\n      <td>8.0</td>\n      <td>6.0</td>\n    </tr>\n    <tr>\n      <th>262</th>\n      <td>Nigeria</td>\n      <td>2014-12-31</td>\n      <td>20.0</td>\n      <td>8.0</td>\n    </tr>\n    <tr>\n      <th>263</th>\n      <td>United States of America</td>\n      <td>2014-12-31</td>\n      <td>4.0</td>\n      <td>1.0</td>\n    </tr>\n    <tr>\n      <th>264</th>\n      <td>Guinea</td>\n      <td>2014-12-31</td>\n      <td>2707.0</td>\n      <td>1709.0</td>\n    </tr>\n  </tbody>\n</table>\n<p>265 rows × 4 columns</p>\n</div>"
     },
     "metadata": {},
     "execution_count": 53
    }
   ],
   "source": [
    "# ebola2014\n",
    "# ebola2015_first, ebola2015_second\n",
    "# ebola2016_first, ebola2016_second\n",
    "\n"
   ]
  },
  {
   "cell_type": "code",
   "execution_count": null,
   "metadata": {},
   "outputs": [],
   "source": []
  }
 ],
 "metadata": {
  "language_info": {
   "codemirror_mode": {
    "name": "ipython",
    "version": 3
   },
   "file_extension": ".py",
   "mimetype": "text/x-python",
   "name": "python",
   "nbconvert_exporter": "python",
   "pygments_lexer": "ipython3",
   "version": "3.7.7-final"
  },
  "orig_nbformat": 2,
  "kernelspec": {
   "name": "python3",
   "display_name": "Python 3"
  }
 },
 "nbformat": 4,
 "nbformat_minor": 2
}